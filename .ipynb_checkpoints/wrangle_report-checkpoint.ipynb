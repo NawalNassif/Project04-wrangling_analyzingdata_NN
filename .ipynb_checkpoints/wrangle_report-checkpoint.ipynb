{
 "cells": [
  {
   "cell_type": "markdown",
   "metadata": {},
   "source": [
    "## Reporting: wrangle_report\n",
    "* Create a **300-600 word written report** called \"wrangle_report.pdf\" or \"wrangle_report.html\" that briefly describes your wrangling efforts. This is to be framed as an internal document."
   ]
  },
  {
   "cell_type": "code",
   "execution_count": null,
   "metadata": {},
   "outputs": [],
   "source": [
    "# Cleaning data: Quality and tidiness\n",
    "# storing data\n",
    "# references"
   ]
  },
  {
   "cell_type": "markdown",
   "metadata": {},
   "source": [
    "This short report describes the wrangling efforts involved in completing the \"WeRateDogs\" project as part of **Udacity's DAND**.\n",
    "The data wrangling process consists of 4 steps:\n",
    "- Step 1: Gathering data\n",
    "- Step 2: Assessing data\n",
    "- Step 3: Cleaning data\n",
    "- Step 4: Storing data "
   ]
  },
  {
   "cell_type": "markdown",
   "metadata": {},
   "source": [
    "## Introduction\n",
    "###### **This project is being set to master Data wrangling and Data cleaning as a Data Analyst.** \n",
    "The Dataset that will be wrangled is the tweet archive of twitter user **`@dog_rates`** which is also known as **`WeRateDogs.`**\n",
    "WeRateDogs is a twitter account that rates people's dogs with a humorous comment about the dog. These rating almost always have a denonminator of 10; but the numerators almost always greater than 10 (11/10, 12/10, 13/10, etc.). Because **`\"they're good dogs Brent\"`as per the founder of this page \"Matt Nelson\".** \n",
    "WeRateDogs has over 9 million followers now on twitter and has received international media coverage."
   ]
  },
  {
   "cell_type": "markdown",
   "metadata": {},
   "source": [
    "## Step 1: Gathering Data\n",
    "###### To gathering the required data, we need to work with three datasets:\n",
    "\n",
    "##### 1. The WeRateDogs Twitter Archive:\n",
    "This file is provided by Udacity as a csv file **`\"twitter_archive_enhanced.csv\"`**. I download and upload this file in the Project Workspace and read it using the function `read_csv`.\n",
    "\n",
    "#####  2. The tweet image predictions:\n",
    "This file **`\"image_predictions.tsv\"`** is provided by Udacity through a URL [image_predictions](https://d17h27t6h515a5.cloudfront.net/topher/2017/August/599fd2ad_image-predictions/image-predictions.tsv). I use the Requests library to download the file programmatically in the Project Workspace.<br>\n",
    "\n",
    "##### 3. Additional data from the Twitter API\n",
    "After creating a developer application on twitter, I use my consumer and secret Keys to access the twitter data (code provided by Udacity). And by using tweets IDs in the WeRateDogs Twitter archive, query the Twitter API for each tweet's JSON data using Python's Tweepy library and store each tweet's entire set of JSON data in a file called **`\"tweet_json.txt\"`** file. Noting that I refer to the codes available on github of \"Meet Patel\" [meet3012](https://github.com/meet3012/We-Rate-Dogs-Twitter-Archive-Data-Wrangling/blob/master/Wrangle_Act.ipynb) to create and collect the above data."
   ]
  },
  {
   "cell_type": "markdown",
   "metadata": {},
   "source": [
    "## Step 2: Assessing Data\n",
    "\n",
    "##### After gathering the data, I assess the data visually and programmatically for ensure of its quality and tidiness.\n",
    "\n",
    "Regarding the quality issues, I assess for completness of the data, for validity, accuraccy and consistency. Below are the findings of my assessment: "
   ]
  },
  {
   "cell_type": "markdown",
   "metadata": {},
   "source": [
    "### Quality issues\n",
    "##### `twitter_archive`table\n",
    "1. None instead of NaN in doggo, floofer, pupper,and puppo columns\n",
    "\n",
    "2. 745 None dog's name instead of NaN, inproper names like:\"a\", \"the\", \"an\" and \"his\": name starting with small letters\n",
    "\n",
    "3. Inadequate type of some variables:tweet_id is an integer, retweeted_status_id and retweeted_user_id are float, timestamp and retweeted_status_timestamp are objects\n",
    "\n",
    "4. 75% of rating_numerator are under 12 but the min and the max are 0 and 1776 respectively\n",
    "\n",
    "5. Rating_denominator has a minimum of 0 and max of 170 noting that the almost usual denominator used is 10 \n",
    "\n",
    "6. Retweet and reply data in the following five columns: **retweeted_status_id**, **retweeted_status_user_id**, **retweeted_status_timestamp**, **in_reply_to_status_id**, **in_reply_to_user_id** and we only need to analyse the original tweets.\n",
    "\n",
    "7. Source in the twitter archive include tags of HTML\n",
    "\n",
    "##### `image_predictions`table\n",
    "\n",
    "8. Prediction of dog type sometimes documented with Capital letter and others with small letters, \n",
    "\n",
    "9. Predictions of dog types includes fruits and things and not only dog types\n",
    "           \n",
    "10. tweet_id is consider as integer\n",
    "\n",
    "##### `favorite_retweet_counts`table\n",
    "\n",
    "11. The \"id\" reflect the \"tweet_id\" in other tables\n",
    "\n",
    "12. \"id\" is considered as integer"
   ]
  },
  {
   "cell_type": "markdown",
   "metadata": {},
   "source": [
    "Regarding the tidiness of the data where each variable should form a column, each observation a row and each observational unit forms a table. I found the below issues."
   ]
  },
  {
   "cell_type": "markdown",
   "metadata": {},
   "source": [
    "### Tidiness issues\n",
    "1. (doggo, floofer, pupper and puppo) include the same variable \"stages of dogs\" and can be merged in one column\n",
    "\n",
    "2. Three tables with different lengths that can be merged in one dataframe."
   ]
  },
  {
   "cell_type": "code",
   "execution_count": null,
   "metadata": {},
   "outputs": [],
   "source": []
  }
 ],
 "metadata": {
  "kernelspec": {
   "display_name": "Python 3",
   "language": "python",
   "name": "python3"
  },
  "language_info": {
   "codemirror_mode": {
    "name": "ipython",
    "version": 3
   },
   "file_extension": ".py",
   "mimetype": "text/x-python",
   "name": "python",
   "nbconvert_exporter": "python",
   "pygments_lexer": "ipython3",
   "version": "3.6.3"
  }
 },
 "nbformat": 4,
 "nbformat_minor": 2
}
